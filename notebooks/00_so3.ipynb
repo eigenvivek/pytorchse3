{
 "cells": [
  {
   "cell_type": "markdown",
   "metadata": {},
   "source": [
    "# so3\n",
    "\n",
    "> SO(3) exp and log map"
   ]
  },
  {
   "cell_type": "code",
   "execution_count": null,
   "metadata": {},
   "outputs": [],
   "source": [
    "#| default_exp so3"
   ]
  },
  {
   "cell_type": "code",
   "execution_count": null,
   "metadata": {},
   "outputs": [],
   "source": [
    "#| hide\n",
    "from nbdev.showdoc import *"
   ]
  },
  {
   "cell_type": "code",
   "execution_count": null,
   "metadata": {},
   "outputs": [],
   "source": [
    "#| export\n",
    "import torch"
   ]
  },
  {
   "cell_type": "markdown",
   "metadata": {},
   "source": [
    "## Log map\n",
    "\n",
    "The log map on SO(3) is equivalent to finding the axis-angle of rotation corresponding to a rotation matrix $\\mathbf R$. This is numerically unstable near rotations $\\theta = 0$ or $\\theta = \\pi$.\n",
    "\n",
    "We port the numerically stable implementation for [`pytransform3d`](https://github.com/dfki-ric/pytransform3d/blob/c45e817c4a7960108afe9f5259542c8376c0e89a/pytransform3d/rotations/_conversions.py#L1719) to PyTorch to enable batched computation of multiple transformations on a GPU."
   ]
  },
  {
   "cell_type": "code",
   "execution_count": null,
   "metadata": {},
   "outputs": [],
   "source": [
    "#| export\n",
    "def so3_log_map(R: torch.Tensor):\n",
    "    \"\"\"Find the axis of rotation for a rotation matrix R. The norm of the axis corresponds to the angle of rotation.\"\"\"\n",
    "\n",
    "    # Get the rotation angle\n",
    "    trace = torch.einsum(\"...ii\", R).unsqueeze(1)\n",
    "    cos_angle = (trace - 1) / 2\n",
    "    cos_angle = torch.clamp(cos_angle, min=-1.0, max=1.0)\n",
    "    angle = cos_angle.arccos()\n",
    "\n",
    "    # Get the rotation axis from Rodrigues' formula\n",
    "    axis_unnormalized = torch.stack(\n",
    "        [\n",
    "            R[..., 2, 1] - R[..., 1, 2],\n",
    "            R[..., 0, 2] - R[..., 2, 0],\n",
    "            R[..., 1, 0] - R[..., 0, 1],\n",
    "        ],\n",
    "        dim=-1,\n",
    "    )\n",
    "\n",
    "    # When trace(R) is close to -1, use an alternative, which is more stable\n",
    "    R_diag = torch.einsum(\"...ii->...i\", R)\n",
    "    R_diag = torch.clamp(R_diag, min=-1.0, max=1.0)\n",
    "    eeT_diag = 0.5 * (R_diag + 1.0)\n",
    "    signs = axis_unnormalized.sign()\n",
    "    signs[signs == 0.0] = 1.0\n",
    "    small_trace = eeT_diag.sqrt() * signs\n",
    "\n",
    "    # Substitute various approximations depending on angles\n",
    "    axis_unnormalized = torch.where(\n",
    "        (angle - torch.pi).abs() < 1e-4,\n",
    "        small_trace,\n",
    "        axis_unnormalized,\n",
    "    )\n",
    "    axis_unnormalized = torch.where(\n",
    "        angle == 0.0,\n",
    "        torch.tensor([1.0, 0.0, 0.0], dtype=R.dtype, device=R.device),\n",
    "        axis_unnormalized,\n",
    "    )\n",
    "\n",
    "    axis = axis_unnormalized / axis_unnormalized.norm(dim=1, keepdim=True)\n",
    "    axis_angle = axis * angle\n",
    "    return axis_angle"
   ]
  },
  {
   "cell_type": "code",
   "execution_count": null,
   "metadata": {},
   "outputs": [],
   "source": [
    "#| export\n",
    "def cross_product_matrix(axis_angle):\n",
    "    \"\"\"Convert the axis-angle to the matrix log(R).\"\"\"\n",
    "    batch_size = len(axis_angle)\n",
    "    log = torch.zeros(\n",
    "        batch_size,\n",
    "        3,\n",
    "        3,\n",
    "        dtype=axis_angle.dtype,\n",
    "        device=axis_angle.device,\n",
    "    )\n",
    "    log[..., 0, 1] = -axis_angle[..., 2]\n",
    "    log[..., 0, 2] = +axis_angle[..., 1]\n",
    "    log[..., 1, 2] = -axis_angle[..., 0]\n",
    "    log[..., 1, 0] = +axis_angle[..., 2]\n",
    "    log[..., 2, 0] = -axis_angle[..., 1]\n",
    "    log[..., 2, 1] = +axis_angle[..., 0]\n",
    "    return log"
   ]
  },
  {
   "cell_type": "code",
   "execution_count": null,
   "metadata": {},
   "outputs": [],
   "source": [
    "#| hide\n",
    "import nbdev\n",
    "\n",
    "nbdev.nbdev_export()"
   ]
  },
  {
   "cell_type": "code",
   "execution_count": null,
   "metadata": {},
   "outputs": [],
   "source": []
  }
 ],
 "metadata": {
  "kernelspec": {
   "display_name": "python3",
   "language": "python",
   "name": "python3"
  },
  "widgets": {
   "application/vnd.jupyter.widget-state+json": {
    "state": {},
    "version_major": 2,
    "version_minor": 0
   }
  }
 },
 "nbformat": 4,
 "nbformat_minor": 4
}
