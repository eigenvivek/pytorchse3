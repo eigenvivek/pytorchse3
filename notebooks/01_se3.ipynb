{
 "cells": [
  {
   "cell_type": "markdown",
   "metadata": {},
   "source": [
    "# se3\n",
    "\n",
    "> SE(3) exp and log map"
   ]
  },
  {
   "cell_type": "code",
   "execution_count": null,
   "metadata": {},
   "outputs": [],
   "source": [
    "#| default_exp se3"
   ]
  },
  {
   "cell_type": "code",
   "execution_count": null,
   "metadata": {},
   "outputs": [],
   "source": [
    "#| hide\n",
    "from nbdev.showdoc import *"
   ]
  },
  {
   "cell_type": "code",
   "execution_count": null,
   "metadata": {},
   "outputs": [],
   "source": [
    "#| export\n",
    "import torch\n",
    "\n",
    "from pytorchse3.so3 import cross_product_matrix, so3_log_map"
   ]
  },
  {
   "cell_type": "markdown",
   "metadata": {},
   "source": [
    "## Log map"
   ]
  },
  {
   "cell_type": "code",
   "execution_count": null,
   "metadata": {},
   "outputs": [],
   "source": [
    "#| exporti\n",
    "\"\"\"\n",
    "Taylor expansions taken from : https://github.com/SYSU-STAR/H2-Mapping/blob/11b8ab15f3302ccb2b4b3d2b30f76d86dcfcde2c/mapping/src/se3pose.py#L89-L118\n",
    "\"\"\"\n",
    "\n",
    "def taylor_A(x, nth=10):\n",
    "    # Taylor expansion of sin(x)/x\n",
    "    ans = torch.zeros_like(x)\n",
    "    denom = 1.0\n",
    "    for i in range(nth + 1):\n",
    "        if i > 0:\n",
    "            denom *= (2 * i) * (2 * i + 1)\n",
    "        ans = ans + (-1) ** i * x ** (2 * i) / denom\n",
    "    return ans\n",
    "\n",
    "\n",
    "def taylor_B(x, nth=10):\n",
    "    # Taylor expansion of (1-cos(x))/x**2\n",
    "    ans = torch.zeros_like(x)\n",
    "    denom = 1.0\n",
    "    for i in range(nth + 1):\n",
    "        denom *= (2 * i + 1) * (2 * i + 2)\n",
    "        ans = ans + (-1) ** i * x ** (2 * i) / denom\n",
    "    return ans\n",
    "\n",
    "\n",
    "def taylor_C(x, nth=10):\n",
    "    # Taylor expansion of (x-sin(x))/x**3\n",
    "    ans = torch.zeros_like(x)\n",
    "    denom = 1.0\n",
    "    for i in range(nth + 1):\n",
    "        denom *= (2 * i + 2) * (2 * i + 3)\n",
    "        ans = ans + (-1) ** i * x ** (2 * i) / denom\n",
    "    return ans"
   ]
  },
  {
   "cell_type": "code",
   "execution_count": null,
   "metadata": {},
   "outputs": [],
   "source": [
    "#| export\n",
    "def se3_log_map(T: torch.Tensor):\n",
    "    R = T[..., :3, :3]\n",
    "    t = T[..., :3, 3]\n",
    "\n",
    "    log_R_vee = so3_log_map(R)\n",
    "    log_R = cross_product_matrix(log_R_vee)\n",
    "    log_R_2 = torch.linalg.matrix_power(log_R, 2)\n",
    "    \n",
    "    theta = log_R_vee.norm(dim=-1, keepdim=True).unsqueeze(-1)\n",
    "    A = taylor_A(theta)\n",
    "    B = taylor_B(theta)\n",
    "    D = (1 - A / (2 * B)) / theta.pow(2)\n",
    "    \n",
    "    V_inv = torch.eye(3, dtype=A.dtype, device=A.device) - 0.5 * log_R + D * log_R_2\n",
    "    log_t_vee = torch.einsum(\"bij, bj -> bi\", V_inv, t)\n",
    "\n",
    "    return torch.concat([log_R_vee, log_t_vee], dim=-1)"
   ]
  },
  {
   "cell_type": "markdown",
   "metadata": {},
   "source": [
    "## Exp map"
   ]
  },
  {
   "cell_type": "code",
   "execution_count": null,
   "metadata": {},
   "outputs": [],
   "source": [
    "#| export\n",
    "def se3_exp_map(log_T_vee, n=10):\n",
    "    log_R_vee = log_T_vee[..., :3]\n",
    "    log_t_vee = log_T_vee[..., 3:]\n",
    "\n",
    "    theta = log_R_vee.norm(dim=-1, keepdim=True).unsqueeze(-1)\n",
    "    log_R = cross_product_matrix(log_R_vee)\n",
    "    log_R_2 = torch.linalg.matrix_power(log_R, 2)\n",
    "    \n",
    "    A = taylor_A(theta, n)\n",
    "    B = taylor_B(theta, n)\n",
    "    C = taylor_C(theta, n)\n",
    "    \n",
    "    R = torch.eye(3, dtype=A.dtype, device=A.device) + A * log_R + B * log_R_2\n",
    "    V = torch.eye(3, dtype=A.dtype, device=A.device) + B * log_R + C * log_R_2\n",
    "    t = torch.einsum(\"bij, bj -> bi\", V, log_t_vee)\n",
    "    \n",
    "    T = torch.zeros((len(theta), 4, 4), dtype=A.dtype, device=A.device)\n",
    "    T[..., :3, :3] = R\n",
    "    T[..., :3, 3] = t\n",
    "    T[..., 3, 3] = 1.0\n",
    "    return T"
   ]
  },
  {
   "cell_type": "code",
   "execution_count": null,
   "metadata": {},
   "outputs": [],
   "source": [
    "#| hide\n",
    "import nbdev\n",
    "\n",
    "nbdev.nbdev_export()"
   ]
  },
  {
   "cell_type": "code",
   "execution_count": null,
   "metadata": {},
   "outputs": [],
   "source": []
  }
 ],
 "metadata": {
  "kernelspec": {
   "display_name": "python3",
   "language": "python",
   "name": "python3"
  },
  "widgets": {
   "application/vnd.jupyter.widget-state+json": {
    "state": {},
    "version_major": 2,
    "version_minor": 0
   }
  }
 },
 "nbformat": 4,
 "nbformat_minor": 4
}
