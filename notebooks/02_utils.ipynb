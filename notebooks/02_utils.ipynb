{
 "cells": [
  {
   "cell_type": "markdown",
   "metadata": {},
   "source": [
    "# utils\n",
    "\n",
    "> Taylor expansions for various coefficients"
   ]
  },
  {
   "cell_type": "code",
   "execution_count": null,
   "metadata": {},
   "outputs": [],
   "source": [
    "#| default_exp utils"
   ]
  },
  {
   "cell_type": "code",
   "execution_count": null,
   "metadata": {},
   "outputs": [],
   "source": [
    "#| hide\n",
    "from nbdev.showdoc import *"
   ]
  },
  {
   "cell_type": "code",
   "execution_count": null,
   "metadata": {},
   "outputs": [],
   "source": [
    "#| export\n",
    "import torch"
   ]
  },
  {
   "cell_type": "markdown",
   "metadata": {},
   "source": [
    "Taylor expansions are taken from [H2-Mapping](https://github.com/SYSU-STAR/H2-Mapping/blob/11b8ab15f3302ccb2b4b3d2b30f76d86dcfcde2c/mapping/src/se3pose.py#L89-L118)."
   ]
  },
  {
   "cell_type": "code",
   "execution_count": null,
   "metadata": {},
   "outputs": [],
   "source": [
    "#| export\n",
    "def taylor_A(x, nth=10):\n",
    "    # Taylor expansion of sin(x)/x\n",
    "    ans = torch.zeros_like(x)\n",
    "    denom = 1.0\n",
    "    for i in range(nth + 1):\n",
    "        if i > 0:\n",
    "            denom *= (2 * i) * (2 * i + 1)\n",
    "        ans = ans + (-1) ** i * x ** (2 * i) / denom\n",
    "    return ans\n",
    "\n",
    "\n",
    "def taylor_B(x, nth=10):\n",
    "    # Taylor expansion of (1-cos(x))/x**2\n",
    "    ans = torch.zeros_like(x)\n",
    "    denom = 1.0\n",
    "    for i in range(nth + 1):\n",
    "        denom *= (2 * i + 1) * (2 * i + 2)\n",
    "        ans = ans + (-1) ** i * x ** (2 * i) / denom\n",
    "    return ans\n",
    "\n",
    "\n",
    "def taylor_C(x, nth=10):\n",
    "    # Taylor expansion of (x-sin(x))/x**3\n",
    "    ans = torch.zeros_like(x)\n",
    "    denom = 1.0\n",
    "    for i in range(nth + 1):\n",
    "        denom *= (2 * i + 2) * (2 * i + 3)\n",
    "        ans = ans + (-1) ** i * x ** (2 * i) / denom\n",
    "    return ans"
   ]
  },
  {
   "cell_type": "code",
   "execution_count": null,
   "metadata": {},
   "outputs": [],
   "source": [
    "#| hide\n",
    "import nbdev\n",
    "\n",
    "nbdev.nbdev_export()"
   ]
  },
  {
   "cell_type": "code",
   "execution_count": null,
   "metadata": {},
   "outputs": [],
   "source": []
  }
 ],
 "metadata": {
  "kernelspec": {
   "display_name": "python3",
   "language": "python",
   "name": "python3"
  },
  "widgets": {
   "application/vnd.jupyter.widget-state+json": {
    "state": {},
    "version_major": 2,
    "version_minor": 0
   }
  }
 },
 "nbformat": 4,
 "nbformat_minor": 4
}
